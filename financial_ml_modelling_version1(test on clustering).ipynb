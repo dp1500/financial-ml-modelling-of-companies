{
  "nbformat": 4,
  "nbformat_minor": 0,
  "metadata": {
    "colab": {
      "provenance": [],
      "collapsed_sections": [],
      "authorship_tag": "ABX9TyNHSxyV5AQTUvVTlqADEroj",
      "include_colab_link": true
    },
    "kernelspec": {
      "name": "python3",
      "display_name": "Python 3"
    },
    "language_info": {
      "name": "python"
    }
  },
  "cells": [
    {
      "cell_type": "markdown",
      "metadata": {
        "id": "view-in-github",
        "colab_type": "text"
      },
      "source": [
        "<a href=\"https://colab.research.google.com/github/dp1500/financial-ml-modelling-of-companies/blob/main/financial_ml_modelling_version1(test%20on%20clustering).ipynb\" target=\"_parent\"><img src=\"https://colab.research.google.com/assets/colab-badge.svg\" alt=\"Open In Colab\"/></a>"
      ]
    },
    {
      "cell_type": "markdown",
      "source": [
        "## dataset stockdatascaled.csv contains details of stocks of different companies."
      ],
      "metadata": {
        "id": "AF9CNe0sJ8FC"
      }
    },
    {
      "cell_type": "code",
      "execution_count": 17,
      "metadata": {
        "id": "wn9viG_9JVzX"
      },
      "outputs": [],
      "source": [
        "import pandas as pd\n",
        "import numpy as np"
      ]
    },
    {
      "cell_type": "code",
      "source": [
        "data = pd.read_csv(\"/content/TDS_Week_5_Dataset_2 - Sheet1.csv\")\n",
        "data.head()"
      ],
      "metadata": {
        "colab": {
          "base_uri": "https://localhost:8080/",
          "height": 302
        },
        "id": "iRTgz3BSJbqt",
        "outputId": "8e7b848c-4bee-4de8-8453-b609ee702dbe"
      },
      "execution_count": 18,
      "outputs": [
        {
          "output_type": "execute_result",
          "data": {
            "text/plain": [
              "   record number     Price  Market Cap  Free Float Market Cap %    6m ADV  \\\n",
              "0              0  0.001319    0.001970                 0.826221  0.021519   \n",
              "1              1  0.000769    0.000579                 0.441647  0.003081   \n",
              "2              2  0.000132    0.000316                 0.655003  0.000778   \n",
              "3              3  0.000824    0.007208                 0.000533  0.000252   \n",
              "4              4  0.000596    0.000358                 0.805526  0.003378   \n",
              "\n",
              "      RoE %    RoCE %  EBIT Margin %       EPS  PAT %  Stock Return %  \n",
              "0  0.000000  0.476845       0.038117  0.000701    0.0        0.268651  \n",
              "1  0.000000  0.232072       0.000000  0.025832    0.0        0.190937  \n",
              "2  0.065568  0.000000       0.000000  0.001083    0.0        0.122265  \n",
              "3  0.408417  0.416031       0.000000  0.000918    0.0        0.100503  \n",
              "4  0.116626  0.474160       0.067420  0.029651    0.0        0.050376  "
            ],
            "text/html": [
              "\n",
              "  <div id=\"df-91f9a6ba-e12f-49dd-b6ca-3eb241b99723\">\n",
              "    <div class=\"colab-df-container\">\n",
              "      <div>\n",
              "<style scoped>\n",
              "    .dataframe tbody tr th:only-of-type {\n",
              "        vertical-align: middle;\n",
              "    }\n",
              "\n",
              "    .dataframe tbody tr th {\n",
              "        vertical-align: top;\n",
              "    }\n",
              "\n",
              "    .dataframe thead th {\n",
              "        text-align: right;\n",
              "    }\n",
              "</style>\n",
              "<table border=\"1\" class=\"dataframe\">\n",
              "  <thead>\n",
              "    <tr style=\"text-align: right;\">\n",
              "      <th></th>\n",
              "      <th>record number</th>\n",
              "      <th>Price</th>\n",
              "      <th>Market Cap</th>\n",
              "      <th>Free Float Market Cap %</th>\n",
              "      <th>6m ADV</th>\n",
              "      <th>RoE %</th>\n",
              "      <th>RoCE %</th>\n",
              "      <th>EBIT Margin %</th>\n",
              "      <th>EPS</th>\n",
              "      <th>PAT %</th>\n",
              "      <th>Stock Return %</th>\n",
              "    </tr>\n",
              "  </thead>\n",
              "  <tbody>\n",
              "    <tr>\n",
              "      <th>0</th>\n",
              "      <td>0</td>\n",
              "      <td>0.001319</td>\n",
              "      <td>0.001970</td>\n",
              "      <td>0.826221</td>\n",
              "      <td>0.021519</td>\n",
              "      <td>0.000000</td>\n",
              "      <td>0.476845</td>\n",
              "      <td>0.038117</td>\n",
              "      <td>0.000701</td>\n",
              "      <td>0.0</td>\n",
              "      <td>0.268651</td>\n",
              "    </tr>\n",
              "    <tr>\n",
              "      <th>1</th>\n",
              "      <td>1</td>\n",
              "      <td>0.000769</td>\n",
              "      <td>0.000579</td>\n",
              "      <td>0.441647</td>\n",
              "      <td>0.003081</td>\n",
              "      <td>0.000000</td>\n",
              "      <td>0.232072</td>\n",
              "      <td>0.000000</td>\n",
              "      <td>0.025832</td>\n",
              "      <td>0.0</td>\n",
              "      <td>0.190937</td>\n",
              "    </tr>\n",
              "    <tr>\n",
              "      <th>2</th>\n",
              "      <td>2</td>\n",
              "      <td>0.000132</td>\n",
              "      <td>0.000316</td>\n",
              "      <td>0.655003</td>\n",
              "      <td>0.000778</td>\n",
              "      <td>0.065568</td>\n",
              "      <td>0.000000</td>\n",
              "      <td>0.000000</td>\n",
              "      <td>0.001083</td>\n",
              "      <td>0.0</td>\n",
              "      <td>0.122265</td>\n",
              "    </tr>\n",
              "    <tr>\n",
              "      <th>3</th>\n",
              "      <td>3</td>\n",
              "      <td>0.000824</td>\n",
              "      <td>0.007208</td>\n",
              "      <td>0.000533</td>\n",
              "      <td>0.000252</td>\n",
              "      <td>0.408417</td>\n",
              "      <td>0.416031</td>\n",
              "      <td>0.000000</td>\n",
              "      <td>0.000918</td>\n",
              "      <td>0.0</td>\n",
              "      <td>0.100503</td>\n",
              "    </tr>\n",
              "    <tr>\n",
              "      <th>4</th>\n",
              "      <td>4</td>\n",
              "      <td>0.000596</td>\n",
              "      <td>0.000358</td>\n",
              "      <td>0.805526</td>\n",
              "      <td>0.003378</td>\n",
              "      <td>0.116626</td>\n",
              "      <td>0.474160</td>\n",
              "      <td>0.067420</td>\n",
              "      <td>0.029651</td>\n",
              "      <td>0.0</td>\n",
              "      <td>0.050376</td>\n",
              "    </tr>\n",
              "  </tbody>\n",
              "</table>\n",
              "</div>\n",
              "      <button class=\"colab-df-convert\" onclick=\"convertToInteractive('df-91f9a6ba-e12f-49dd-b6ca-3eb241b99723')\"\n",
              "              title=\"Convert this dataframe to an interactive table.\"\n",
              "              style=\"display:none;\">\n",
              "        \n",
              "  <svg xmlns=\"http://www.w3.org/2000/svg\" height=\"24px\"viewBox=\"0 0 24 24\"\n",
              "       width=\"24px\">\n",
              "    <path d=\"M0 0h24v24H0V0z\" fill=\"none\"/>\n",
              "    <path d=\"M18.56 5.44l.94 2.06.94-2.06 2.06-.94-2.06-.94-.94-2.06-.94 2.06-2.06.94zm-11 1L8.5 8.5l.94-2.06 2.06-.94-2.06-.94L8.5 2.5l-.94 2.06-2.06.94zm10 10l.94 2.06.94-2.06 2.06-.94-2.06-.94-.94-2.06-.94 2.06-2.06.94z\"/><path d=\"M17.41 7.96l-1.37-1.37c-.4-.4-.92-.59-1.43-.59-.52 0-1.04.2-1.43.59L10.3 9.45l-7.72 7.72c-.78.78-.78 2.05 0 2.83L4 21.41c.39.39.9.59 1.41.59.51 0 1.02-.2 1.41-.59l7.78-7.78 2.81-2.81c.8-.78.8-2.07 0-2.86zM5.41 20L4 18.59l7.72-7.72 1.47 1.35L5.41 20z\"/>\n",
              "  </svg>\n",
              "      </button>\n",
              "      \n",
              "  <style>\n",
              "    .colab-df-container {\n",
              "      display:flex;\n",
              "      flex-wrap:wrap;\n",
              "      gap: 12px;\n",
              "    }\n",
              "\n",
              "    .colab-df-convert {\n",
              "      background-color: #E8F0FE;\n",
              "      border: none;\n",
              "      border-radius: 50%;\n",
              "      cursor: pointer;\n",
              "      display: none;\n",
              "      fill: #1967D2;\n",
              "      height: 32px;\n",
              "      padding: 0 0 0 0;\n",
              "      width: 32px;\n",
              "    }\n",
              "\n",
              "    .colab-df-convert:hover {\n",
              "      background-color: #E2EBFA;\n",
              "      box-shadow: 0px 1px 2px rgba(60, 64, 67, 0.3), 0px 1px 3px 1px rgba(60, 64, 67, 0.15);\n",
              "      fill: #174EA6;\n",
              "    }\n",
              "\n",
              "    [theme=dark] .colab-df-convert {\n",
              "      background-color: #3B4455;\n",
              "      fill: #D2E3FC;\n",
              "    }\n",
              "\n",
              "    [theme=dark] .colab-df-convert:hover {\n",
              "      background-color: #434B5C;\n",
              "      box-shadow: 0px 1px 3px 1px rgba(0, 0, 0, 0.15);\n",
              "      filter: drop-shadow(0px 1px 2px rgba(0, 0, 0, 0.3));\n",
              "      fill: #FFFFFF;\n",
              "    }\n",
              "  </style>\n",
              "\n",
              "      <script>\n",
              "        const buttonEl =\n",
              "          document.querySelector('#df-91f9a6ba-e12f-49dd-b6ca-3eb241b99723 button.colab-df-convert');\n",
              "        buttonEl.style.display =\n",
              "          google.colab.kernel.accessAllowed ? 'block' : 'none';\n",
              "\n",
              "        async function convertToInteractive(key) {\n",
              "          const element = document.querySelector('#df-91f9a6ba-e12f-49dd-b6ca-3eb241b99723');\n",
              "          const dataTable =\n",
              "            await google.colab.kernel.invokeFunction('convertToInteractive',\n",
              "                                                     [key], {});\n",
              "          if (!dataTable) return;\n",
              "\n",
              "          const docLinkHtml = 'Like what you see? Visit the ' +\n",
              "            '<a target=\"_blank\" href=https://colab.research.google.com/notebooks/data_table.ipynb>data table notebook</a>'\n",
              "            + ' to learn more about interactive tables.';\n",
              "          element.innerHTML = '';\n",
              "          dataTable['output_type'] = 'display_data';\n",
              "          await google.colab.output.renderOutput(dataTable, element);\n",
              "          const docLink = document.createElement('div');\n",
              "          docLink.innerHTML = docLinkHtml;\n",
              "          element.appendChild(docLink);\n",
              "        }\n",
              "      </script>\n",
              "    </div>\n",
              "  </div>\n",
              "  "
            ]
          },
          "metadata": {},
          "execution_count": 18
        }
      ]
    },
    {
      "cell_type": "code",
      "source": [
        "data.shape"
      ],
      "metadata": {
        "colab": {
          "base_uri": "https://localhost:8080/"
        },
        "id": "e23zeaQ1JjlV",
        "outputId": "8695577a-c03e-4fb3-802f-f1a811aa47d5"
      },
      "execution_count": 19,
      "outputs": [
        {
          "output_type": "execute_result",
          "data": {
            "text/plain": [
              "(1225, 11)"
            ]
          },
          "metadata": {},
          "execution_count": 19
        }
      ]
    },
    {
      "cell_type": "markdown",
      "source": [
        "## DATA ALREADY SCALED"
      ],
      "metadata": {
        "id": "v6eFLsrWps5E"
      }
    },
    {
      "cell_type": "markdown",
      "source": [
        "## APLYING KMEANS CLUSTERING"
      ],
      "metadata": {
        "id": "HPgyzlxOpwnM"
      }
    },
    {
      "cell_type": "code",
      "source": [
        "data.drop(['record number'], axis=1, inplace=True)"
      ],
      "metadata": {
        "id": "FKump2znqtwM"
      },
      "execution_count": 20,
      "outputs": []
    },
    {
      "cell_type": "code",
      "source": [
        "from sklearn.cluster import KMeans\n",
        "kmeans = KMeans(7, random_state= 1729)\n",
        "\n",
        "clus = kmeans.fit_predict(data)"
      ],
      "metadata": {
        "id": "nvAKwcMuJonH"
      },
      "execution_count": 21,
      "outputs": []
    },
    {
      "cell_type": "code",
      "source": [
        "data['cluster'] = clus\n",
        "data['cluster'].value_counts()"
      ],
      "metadata": {
        "colab": {
          "base_uri": "https://localhost:8080/"
        },
        "id": "_Ipevo-_p_03",
        "outputId": "c272c95a-2729-4547-d418-a351c1c9a6ba"
      },
      "execution_count": 23,
      "outputs": [
        {
          "output_type": "execute_result",
          "data": {
            "text/plain": [
              "0    435\n",
              "3    382\n",
              "2    153\n",
              "1    152\n",
              "5     62\n",
              "4     21\n",
              "6     20\n",
              "Name: cluster, dtype: int64"
            ]
          },
          "metadata": {},
          "execution_count": 23
        }
      ]
    },
    {
      "cell_type": "code",
      "source": [
        "def isPair(x,y):\n",
        "  print(data['cluster'][x])\n",
        "  print(data['cluster'][y])\n",
        "\n",
        "isPair(554,386)"
      ],
      "metadata": {
        "colab": {
          "base_uri": "https://localhost:8080/"
        },
        "id": "1cEJNEAUqXSm",
        "outputId": "9f235804-db7d-4104-cd46-a091f550d877"
      },
      "execution_count": 26,
      "outputs": [
        {
          "output_type": "stream",
          "name": "stdout",
          "text": [
            "1\n",
            "1\n"
          ]
        }
      ]
    },
    {
      "cell_type": "code",
      "source": [],
      "metadata": {
        "id": "WkO_fsEjsgxH"
      },
      "execution_count": null,
      "outputs": []
    }
  ]
}